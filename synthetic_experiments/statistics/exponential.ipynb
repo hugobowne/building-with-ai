{
 "cells": [
  {
   "cell_type": "markdown",
   "id": "9d910fe4",
   "metadata": {},
   "source": [
    "# The Exponential Distribution\n",
    "\n",
    "This notebook explores the exponential distribution through real-world examples, data generating processes, and visualizations."
   ]
  },
  {
   "cell_type": "code",
   "execution_count": null,
   "id": "8842dbb6",
   "metadata": {},
   "outputs": [],
   "source": [
    "\n",
    "import numpy as np\n",
    "import pandas as pd\n",
    "import matplotlib.pyplot as plt\n",
    "import seaborn as sns\n",
    "from ipywidgets import interact, widgets\n",
    "\n",
    "sns.set_theme(style=\"whitegrid\")\n",
    "plt.rcParams['figure.figsize'] = [10, 6]\n",
    "plt.rcParams['figure.dpi'] = 100\n"
   ]
  },
  {
   "cell_type": "markdown",
   "id": "1990929d",
   "metadata": {},
   "source": [
    "## 1. Real-World Examples\n",
    "\n",
    "The exponential distribution appears in many real-world scenarios:\n",
    "\n",
    "- Time between customer arrivals\n",
    "- Equipment failure times\n",
    "- Service times at a checkout counter\n",
    "\n",
    "Let's explore some examples in detail."
   ]
  },
  {
   "cell_type": "markdown",
   "id": "f6ead4cb",
   "metadata": {},
   "source": [
    "### Example 1: Time between customer arrivals\n",
    "\n",
    "Let's simulate and visualize this example:"
   ]
  },
  {
   "cell_type": "code",
   "execution_count": null,
   "id": "cd91c748",
   "metadata": {},
   "outputs": [],
   "source": [
    "\n",
    "def simulate_interarrival_times(rate=5, n_simulations=1000):\n",
    "    interarrival_times = np.random.exponential(1/rate, n_simulations)\n",
    "    \n",
    "    return interarrival_times\n",
    "\n",
    "interarrival_times = simulate_interarrival_times(5, 1000)\n",
    "\n",
    "plt.figure(figsize=(12, 6))\n",
    "\n",
    "plt.subplot(1, 2, 1)\n",
    "sns.histplot(interarrival_times, bins=30, kde=True)\n",
    "plt.title(\"Distribution of Interarrival Times\")\n",
    "plt.xlabel(\"Time Between Arrivals\")\n",
    "plt.ylabel(\"Frequency\")\n",
    "\n",
    "plt.subplot(1, 2, 2)\n",
    "sns.ecdfplot(interarrival_times)\n",
    "plt.title(\"Empirical CDF of Interarrival Times\")\n",
    "plt.xlabel(\"Time Between Arrivals\")\n",
    "plt.ylabel(\"Cumulative Probability\")\n",
    "\n",
    "plt.tight_layout()\n",
    "plt.show()\n",
    "\n",
    "mean_time = np.mean(interarrival_times)\n",
    "var_time = np.var(interarrival_times)\n",
    "print(f\"Mean interarrival time: {mean_time:.4f}\")\n",
    "print(f\"Variance of interarrival times: {var_time:.4f}\")\n",
    "print(f\"Theoretical mean (1/λ): {1/5:.4f}\")\n",
    "print(f\"Theoretical variance (1/λ²): {1/(5**2):.4f}\")\n"
   ]
  },
  {
   "cell_type": "markdown",
   "id": "ea2c59b0",
   "metadata": {},
   "source": [
    "## 5. Summary\n",
    "\n",
    "In this notebook, we explored the exponential distribution through:\n",
    "\n",
    "1. **Real-world examples**: Time between customer arrivals, Equipment failure times, Service times at a checkout counter\n",
    "2. **Data generating process**: Understanding how the distribution emerges\n",
    "3. **Implementation & visualization**: Using NumPy for random sampling and seaborn for visualization\n",
    "4. **Interactive exploration**: Examining how the distribution changes with different parameters\n",
    "5. **Practical applications**: Real-world use cases and applications\n",
    "\n",
    "The exponential distribution is important in statistics and appears in many real-world scenarios."
   ]
  }
 ],
 "metadata": {},
 "nbformat": 4,
 "nbformat_minor": 5
}

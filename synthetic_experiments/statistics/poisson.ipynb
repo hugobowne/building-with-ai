{
 "cells": [
  {
   "cell_type": "markdown",
   "id": "3a7f0842",
   "metadata": {},
   "source": [
    "# The Poisson Distribution\n",
    "\n",
    "This notebook explores the poisson distribution through real-world examples, data generating processes, and visualizations."
   ]
  },
  {
   "cell_type": "code",
   "execution_count": null,
   "id": "0ce98770",
   "metadata": {},
   "outputs": [],
   "source": [
    "\n",
    "import numpy as np\n",
    "import pandas as pd\n",
    "import matplotlib.pyplot as plt\n",
    "import seaborn as sns\n",
    "from ipywidgets import interact, widgets\n",
    "\n",
    "sns.set_theme(style=\"whitegrid\")\n",
    "plt.rcParams['figure.figsize'] = [10, 6]\n",
    "plt.rcParams['figure.dpi'] = 100\n"
   ]
  },
  {
   "cell_type": "markdown",
   "id": "2afd1b91",
   "metadata": {},
   "source": [
    "## 1. Real-World Examples\n",
    "\n",
    "The poisson distribution appears in many real-world scenarios:\n",
    "\n",
    "- Customer arrivals at a store\n",
    "- Number of emails received per hour\n",
    "- Number of defects in a manufactured product\n",
    "\n",
    "Let's explore some examples in detail."
   ]
  },
  {
   "cell_type": "markdown",
   "id": "7a060412",
   "metadata": {},
   "source": [
    "### Example 1: Customer arrivals at a store\n",
    "\n",
    "Let's simulate and visualize this example:"
   ]
  },
  {
   "cell_type": "code",
   "execution_count": null,
   "id": "9d479f67",
   "metadata": {},
   "outputs": [],
   "source": [
    "\n",
    "def simulate_customer_arrivals(rate=5, time_period=1, n_simulations=1000):\n",
    "    arrivals = np.random.poisson(rate * time_period, n_simulations)\n",
    "    \n",
    "    return arrivals\n",
    "\n",
    "arrivals = simulate_customer_arrivals(5, 1, 1000)\n",
    "\n",
    "plt.figure(figsize=(12, 6))\n",
    "\n",
    "plt.subplot(1, 2, 1)\n",
    "sns.histplot(arrivals, discrete=True, stat=\"probability\", kde=False)\n",
    "plt.title(\"Distribution of Customer Arrivals per Hour\")\n",
    "plt.xlabel(\"Number of Arrivals\")\n",
    "plt.ylabel(\"Probability\")\n",
    "\n",
    "plt.subplot(1, 2, 2)\n",
    "sns.ecdfplot(arrivals)\n",
    "plt.title(\"Empirical CDF of Customer Arrivals\")\n",
    "plt.xlabel(\"Number of Arrivals\")\n",
    "plt.ylabel(\"Cumulative Probability\")\n",
    "\n",
    "plt.tight_layout()\n",
    "plt.show()\n",
    "\n",
    "mean_arrivals = np.mean(arrivals)\n",
    "var_arrivals = np.var(arrivals)\n",
    "print(f\"Mean number of arrivals: {mean_arrivals:.2f}\")\n",
    "print(f\"Variance of arrivals: {var_arrivals:.2f}\")\n",
    "print(f\"Probability of no arrivals: {np.mean(arrivals == 0):.2%}\")\n",
    "print(f\"Probability of more than 10 arrivals: {np.mean(arrivals > 10):.2%}\")\n"
   ]
  },
  {
   "cell_type": "markdown",
   "id": "20a69a9c",
   "metadata": {},
   "source": [
    "## 5. Summary\n",
    "\n",
    "In this notebook, we explored the poisson distribution through:\n",
    "\n",
    "1. **Real-world examples**: Customer arrivals at a store, Number of emails received per hour, Number of defects in a manufactured product\n",
    "2. **Data generating process**: Understanding how the distribution emerges\n",
    "3. **Implementation & visualization**: Using NumPy for random sampling and seaborn for visualization\n",
    "4. **Interactive exploration**: Examining how the distribution changes with different parameters\n",
    "5. **Practical applications**: Real-world use cases and applications\n",
    "\n",
    "The poisson distribution is important in statistics and appears in many real-world scenarios."
   ]
  }
 ],
 "metadata": {},
 "nbformat": 4,
 "nbformat_minor": 5
}

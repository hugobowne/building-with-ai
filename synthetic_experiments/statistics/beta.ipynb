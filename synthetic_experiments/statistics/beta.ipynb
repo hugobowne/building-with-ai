{
 "cells": [
  {
   "cell_type": "markdown",
   "id": "3fc0173d",
   "metadata": {},
   "source": [
    "# The Beta Distribution\n",
    "\n",
    "This notebook explores the beta distribution through real-world examples, data generating processes, and visualizations."
   ]
  },
  {
   "cell_type": "code",
   "execution_count": null,
   "id": "57f3e691",
   "metadata": {},
   "outputs": [],
   "source": [
    "\n",
    "import numpy as np\n",
    "import pandas as pd\n",
    "import matplotlib.pyplot as plt\n",
    "import seaborn as sns\n",
    "from ipywidgets import interact, widgets\n",
    "\n",
    "sns.set_theme(style=\"whitegrid\")\n",
    "plt.rcParams['figure.figsize'] = [10, 6]\n",
    "plt.rcParams['figure.dpi'] = 100\n"
   ]
  },
  {
   "cell_type": "markdown",
   "id": "44cd0ac5",
   "metadata": {},
   "source": [
    "## 1. Real-World Examples\n",
    "\n",
    "The beta distribution appears in many real-world scenarios:\n",
    "\n",
    "- Conversion rates in marketing\n",
    "- Batting averages in baseball\n",
    "- Proportion of defective items in manufacturing\n",
    "\n",
    "Let's explore some examples in detail."
   ]
  },
  {
   "cell_type": "markdown",
   "id": "690af8c8",
   "metadata": {},
   "source": [
    "### Example 1: Conversion rates in marketing\n",
    "\n",
    "Let's simulate and visualize this example:"
   ]
  },
  {
   "cell_type": "code",
   "execution_count": null,
   "id": "a6fb268e",
   "metadata": {},
   "outputs": [],
   "source": [
    "\n",
    "def simulate_conversion_rates(a=2, b=8, n_campaigns=1000):\n",
    "    conversion_rates = np.random.beta(a, b, n_campaigns)\n",
    "    \n",
    "    return conversion_rates\n",
    "\n",
    "conversion_rates = simulate_conversion_rates(2, 8, 1000)\n",
    "\n",
    "plt.figure(figsize=(12, 6))\n",
    "\n",
    "plt.subplot(1, 2, 1)\n",
    "sns.histplot(conversion_rates, bins=30, kde=True)\n",
    "plt.title(\"Distribution of Conversion Rates\")\n",
    "plt.xlabel(\"Conversion Rate\")\n",
    "plt.ylabel(\"Frequency\")\n",
    "\n",
    "plt.axvline(np.mean(conversion_rates), color='r', linestyle='--', label='Mean')\n",
    "plt.legend()\n",
    "\n",
    "plt.subplot(1, 2, 2)\n",
    "sns.ecdfplot(conversion_rates)\n",
    "plt.title(\"Empirical CDF of Conversion Rates\")\n",
    "plt.xlabel(\"Conversion Rate\")\n",
    "plt.ylabel(\"Cumulative Probability\")\n",
    "\n",
    "plt.tight_layout()\n",
    "plt.show()\n",
    "\n",
    "mean_rate = np.mean(conversion_rates)\n",
    "var_rate = np.var(conversion_rates)\n",
    "print(f\"Mean conversion rate: {mean_rate:.4f}\")\n",
    "print(f\"Variance of conversion rates: {var_rate:.4f}\")\n",
    "print(f\"Theoretical mean (a/(a+b)): {2/(2+8):.4f}\")\n",
    "print(f\"Theoretical variance (ab/((a+b)²(a+b+1))): {2*8/((2+8)**2 * (2+8+1)):.4f}\")\n"
   ]
  },
  {
   "cell_type": "markdown",
   "id": "3e147ad4",
   "metadata": {},
   "source": [
    "## 5. Summary\n",
    "\n",
    "In this notebook, we explored the beta distribution through:\n",
    "\n",
    "1. **Real-world examples**: Conversion rates in marketing, Batting averages in baseball, Proportion of defective items in manufacturing\n",
    "2. **Data generating process**: Understanding how the distribution emerges\n",
    "3. **Implementation & visualization**: Using NumPy for random sampling and seaborn for visualization\n",
    "4. **Interactive exploration**: Examining how the distribution changes with different parameters\n",
    "5. **Practical applications**: Real-world use cases and applications\n",
    "\n",
    "The beta distribution is important in statistics and appears in many real-world scenarios."
   ]
  }
 ],
 "metadata": {},
 "nbformat": 4,
 "nbformat_minor": 5
}

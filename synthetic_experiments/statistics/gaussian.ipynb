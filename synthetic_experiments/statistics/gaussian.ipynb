{
 "cells": [
  {
   "cell_type": "markdown",
   "id": "dcd573ec",
   "metadata": {},
   "source": [
    "# The Gaussian Distribution\n",
    "\n",
    "This notebook explores the gaussian distribution through real-world examples, data generating processes, and visualizations."
   ]
  },
  {
   "cell_type": "code",
   "execution_count": null,
   "id": "98898508",
   "metadata": {},
   "outputs": [],
   "source": [
    "\n",
    "import numpy as np\n",
    "import pandas as pd\n",
    "import matplotlib.pyplot as plt\n",
    "import seaborn as sns\n",
    "from ipywidgets import interact, widgets\n",
    "\n",
    "sns.set_theme(style=\"whitegrid\")\n",
    "plt.rcParams['figure.figsize'] = [10, 6]\n",
    "plt.rcParams['figure.dpi'] = 100\n"
   ]
  },
  {
   "cell_type": "markdown",
   "id": "00f10943",
   "metadata": {},
   "source": [
    "## 1. Real-World Examples\n",
    "\n",
    "The gaussian distribution appears in many real-world scenarios:\n",
    "\n",
    "- Heights of people\n",
    "- Measurement errors\n",
    "- Test scores\n",
    "\n",
    "Let's explore some examples in detail."
   ]
  },
  {
   "cell_type": "markdown",
   "id": "28dc1cc7",
   "metadata": {},
   "source": [
    "### Example 1: Heights of people\n",
    "\n",
    "Let's simulate and visualize this example:"
   ]
  },
  {
   "cell_type": "code",
   "execution_count": null,
   "id": "0c9b0d4f",
   "metadata": {},
   "outputs": [],
   "source": [
    "\n",
    "def simulate_heights(mean=170, std=7, n_people=1000):\n",
    "    heights = np.random.normal(mean, std, n_people)\n",
    "    \n",
    "    return heights\n",
    "\n",
    "heights = simulate_heights(170, 7, 1000)\n",
    "\n",
    "plt.figure(figsize=(12, 6))\n",
    "\n",
    "plt.subplot(1, 2, 1)\n",
    "sns.histplot(heights, bins=30, kde=True)\n",
    "plt.title(\"Distribution of Heights\")\n",
    "plt.xlabel(\"Height (cm)\")\n",
    "plt.ylabel(\"Frequency\")\n",
    "\n",
    "plt.axvline(np.mean(heights), color='r', linestyle='--', label='Mean')\n",
    "plt.axvline(np.mean(heights) + np.std(heights), color='g', linestyle='--', label='+1 SD')\n",
    "plt.axvline(np.mean(heights) - np.std(heights), color='g', linestyle='--', label='-1 SD')\n",
    "plt.legend()\n",
    "\n",
    "plt.subplot(1, 2, 2)\n",
    "from scipy import stats\n",
    "stats.probplot(heights, plot=plt)\n",
    "plt.title(\"Q-Q Plot of Heights\")\n",
    "\n",
    "plt.tight_layout()\n",
    "plt.show()\n",
    "\n",
    "mean_height = np.mean(heights)\n",
    "std_height = np.std(heights)\n",
    "print(f\"Mean height: {mean_height:.2f} cm\")\n",
    "print(f\"Standard deviation: {std_height:.2f} cm\")\n",
    "print(f\"Percentage within 1 SD of mean: {np.mean((heights > mean_height - std_height) & (heights < mean_height + std_height)):.1%}\")\n",
    "print(f\"Percentage within 2 SD of mean: {np.mean((heights > mean_height - 2*std_height) & (heights < mean_height + 2*std_height)):.1%}\")\n"
   ]
  },
  {
   "cell_type": "markdown",
   "id": "7d2b40b9",
   "metadata": {},
   "source": [
    "## 5. Summary\n",
    "\n",
    "In this notebook, we explored the gaussian distribution through:\n",
    "\n",
    "1. **Real-world examples**: Heights of people, Measurement errors, Test scores\n",
    "2. **Data generating process**: Understanding how the distribution emerges\n",
    "3. **Implementation & visualization**: Using NumPy for random sampling and seaborn for visualization\n",
    "4. **Interactive exploration**: Examining how the distribution changes with different parameters\n",
    "5. **Practical applications**: Real-world use cases and applications\n",
    "\n",
    "The gaussian distribution is important in statistics and appears in many real-world scenarios."
   ]
  }
 ],
 "metadata": {},
 "nbformat": 4,
 "nbformat_minor": 5
}

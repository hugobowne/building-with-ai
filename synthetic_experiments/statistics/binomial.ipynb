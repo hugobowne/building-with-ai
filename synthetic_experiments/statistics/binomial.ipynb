{
 "cells": [
  {
   "cell_type": "markdown",
   "id": "91add9ca",
   "metadata": {},
   "source": [
    "# The Binomial Distribution\n",
    "\n",
    "This notebook explores the binomial distribution through real-world examples, data generating processes, and visualizations."
   ]
  },
  {
   "cell_type": "code",
   "execution_count": null,
   "id": "7ca9ae8b",
   "metadata": {},
   "outputs": [],
   "source": [
    "\n",
    "import numpy as np\n",
    "import pandas as pd\n",
    "import matplotlib.pyplot as plt\n",
    "import seaborn as sns\n",
    "from ipywidgets import interact, widgets\n",
    "\n",
    "sns.set_theme(style=\"whitegrid\")\n",
    "plt.rcParams['figure.figsize'] = [10, 6]\n",
    "plt.rcParams['figure.dpi'] = 100\n"
   ]
  },
  {
   "cell_type": "markdown",
   "id": "201618b9",
   "metadata": {},
   "source": [
    "## 1. Real-World Examples\n",
    "\n",
    "The binomial distribution appears in many real-world scenarios:\n",
    "\n",
    "- Coin flips (heads/tails)\n",
    "- A/B testing (conversion/no conversion)\n",
    "- Quality control (defective/non-defective items)\n",
    "\n",
    "Let's explore some examples in detail."
   ]
  },
  {
   "cell_type": "markdown",
   "id": "022c363b",
   "metadata": {},
   "source": [
    "### Example 1: Coin flips (heads/tails)\n",
    "\n",
    "Let's simulate and visualize this example:"
   ]
  },
  {
   "cell_type": "code",
   "execution_count": null,
   "id": "271465cc",
   "metadata": {},
   "outputs": [],
   "source": [
    "\n",
    "def flip_coins(n_flips=10, n_experiments=1000):\n",
    "    flips = np.random.randint(0, 2, size=(n_experiments, n_flips))\n",
    "    \n",
    "    heads_count = np.sum(flips, axis=1)\n",
    "    \n",
    "    return heads_count\n",
    "\n",
    "results = flip_coins(10, 1000)\n",
    "\n",
    "plt.figure(figsize=(12, 6))\n",
    "\n",
    "plt.subplot(1, 2, 1)\n",
    "sns.histplot(results, discrete=True, stat=\"probability\", kde=False)\n",
    "plt.title(\"Distribution of Heads in 10 Coin Flips\")\n",
    "plt.xlabel(\"Number of Heads\")\n",
    "plt.ylabel(\"Probability\")\n",
    "\n",
    "plt.subplot(1, 2, 2)\n",
    "sns.ecdfplot(results)\n",
    "plt.title(\"Empirical CDF of Heads in 10 Coin Flips\")\n",
    "plt.xlabel(\"Number of Heads\")\n",
    "plt.ylabel(\"Cumulative Probability\")\n",
    "\n",
    "plt.tight_layout()\n",
    "plt.show()\n"
   ]
  },
  {
   "cell_type": "markdown",
   "id": "77dce4c5",
   "metadata": {},
   "source": [
    "## 5. Summary\n",
    "\n",
    "In this notebook, we explored the binomial distribution through:\n",
    "\n",
    "1. **Real-world examples**: Coin flips (heads/tails), A/B testing (conversion/no conversion), Quality control (defective/non-defective items)\n",
    "2. **Data generating process**: Understanding how the distribution emerges\n",
    "3. **Implementation & visualization**: Using NumPy for random sampling and seaborn for visualization\n",
    "4. **Interactive exploration**: Examining how the distribution changes with different parameters\n",
    "5. **Practical applications**: Real-world use cases and applications\n",
    "\n",
    "The binomial distribution is important in statistics and appears in many real-world scenarios."
   ]
  }
 ],
 "metadata": {},
 "nbformat": 4,
 "nbformat_minor": 5
}
